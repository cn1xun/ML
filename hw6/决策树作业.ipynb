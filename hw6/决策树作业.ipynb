{
 "cells": [
  {
   "metadata": {},
   "cell_type": "markdown",
   "source": [
    "## 简答题\n",
    "1. 如果训练集有100万个实例，训练决策树（无约束）大致的深度是多少？\n",
    "无约束会尽可能分裂log(100w)\n",
    "2. 通常来说，子节点的基尼杂质是高于还是低于其父节点？是通常更高/更低？还是永远更高/更低？\n",
    "子节点的基尼杂质是通常低于其父节点\n",
    "3. 如果决策树过拟合训练集，减少max_depth是否为一个好主意？\n",
    "是\n",
    "4. 如果决策树对训练集欠拟合，尝试缩放输入特征是否为一个好主意？\n",
    "决策树对缩放不敏感\n",
    "5. 如果在给定的训练集上训练决策树需要一个小时，那么如果将特征数量变为两倍，训练大约需要多少时间？\n",
    "决策树训练时间与特征数量d O(d*n*logn) 训练2h\n",
    "6. 如果在包含100万个实例的训练集上训练决策树需要一个小时，那么在包含1000万个实例的训练集上训练决策树，大概需要多长时间？提示：考虑CART算法的计算复杂度。\n",
    "决策树训练时间与特征数量d O(d*n*logn) 10^6*log(10^6)/10^7*log(10^7)≈11.5h"
   ],
   "id": "c8b56739308b5b88"
  },
  {
   "metadata": {},
   "cell_type": "markdown",
   "source": "## 编程题",
   "id": "d57bc0d1695fa8ab"
  },
  {
   "metadata": {},
   "cell_type": "markdown",
   "source": [
    "1. 为 新月形 数据集训练并微调一棵决策树。\n",
    "\n",
    "a. 使用make_moons(n_samples=10000，noise=0.4)生成一个 新月形 数据集。\n",
    "\n",
    "b. 使用train_test_split()拆分训练集和测试集。\n",
    "\n",
    "c. 使用交叉验证的网格搜索（在GridSearchCV类的帮助下）为Decision-TreeClassifier找到适合的超参数值。提示：尝试max_leaf_nodes的多种值。\n",
    "\n",
    "d. 使用超参数对整个训练集进行训练，并测量模型在测试集上的性能。你应该得到约85%～87%的准确率。"
   ],
   "id": "df859f669d173482"
  },
  {
   "metadata": {
    "ExecuteTime": {
     "end_time": "2025-08-17T01:09:08.852848Z",
     "start_time": "2025-08-17T01:09:08.608798Z"
    }
   },
   "cell_type": "code",
   "source": [
    "from sklearn.datasets import make_moons\n",
    "from sklearn.model_selection import train_test_split, GridSearchCV\n",
    "from sklearn.tree import DecisionTreeClassifier\n",
    "\n",
    "X, y = make_moons(n_samples=10000, noise=0.4, random_state=42)\n",
    "X_train,X_test,y_train,y_test = train_test_split(X,y,test_size=0.2,random_state=42)\n",
    "param_grid={'max_leaf_nodes':[10,15,20]}\n",
    "GSCV_tree = GridSearchCV(DecisionTreeClassifier(random_state=42), param_grid)\n",
    "GSCV_tree.fit(X_train,y_train)\n",
    "print(GSCV_tree.best_params_)\n",
    "y_pred = GSCV_tree.predict(X_test)\n",
    "print(GSCV_tree.score(X_test,y_test))"
   ],
   "id": "30937e48506140bb",
   "outputs": [
    {
     "name": "stdout",
     "output_type": "stream",
     "text": [
      "{'max_leaf_nodes': 20}\n",
      "0.87\n"
     ]
    }
   ],
   "execution_count": 2
  },
  {
   "metadata": {},
   "cell_type": "markdown",
   "source": [
    "2. 按照以下步骤种植森林。\n",
    "\n",
    "a.继续之前的练习，生产1000个训练集子集，每个子集包含随机挑选的100个实例。提示：使用Scikit-Learn的ShuffleSplit类来实现。\n",
    "\n",
    "b.使用前面得到的最佳超参数值，在每个子集上训练一棵决策树。在测试集上评估这1000棵决策树。因为训练集更小，所以这些决策树的表现可能比第一棵决策树要差一些，只能达到约80%的精度。\n",
    "\n",
    "c.见证奇迹的时刻到了。用每个测试集实例，生成1000棵决策树的预测，然后仅保留次数最频繁的预测［可以使用SciPy的mode()函数］。这样你在测试集上可获得大多数投票的预测结果。\n",
    "\n",
    "d.评估测试集上的这些预测，你得到的准确率应该比第一个模型更高（高出0.5%～1.5%）。恭喜，你已经训练出了一个随机森林分类器！"
   ],
   "id": "ed6c04b5518d9498"
  },
  {
   "metadata": {
    "ExecuteTime": {
     "end_time": "2025-08-17T01:40:10.866061Z",
     "start_time": "2025-08-17T01:40:09.038703Z"
    }
   },
   "cell_type": "code",
   "source": [
    "from sklearn.model_selection import ShuffleSplit\n",
    "from sklearn.tree import DecisionTreeClassifier\n",
    "from scipy.stats import mode\n",
    "from sklearn.metrics import accuracy_score\n",
    "import numpy as np\n",
    "\n",
    "shuffle_split = ShuffleSplit(n_splits=1000, train_size=100, random_state=42)\n",
    "trees = []\n",
    "scores = []\n",
    "for train_index, _ in shuffle_split.split(X_train):\n",
    "    subset_X = X_train[train_index]\n",
    "    subset_y = y_train[train_index]\n",
    "    tree = DecisionTreeClassifier(max_leaf_nodes=20, random_state=42)\n",
    "    tree.fit(subset_X, subset_y)\n",
    "    trees.append(tree)\n",
    "    score = tree.score(X_test, y_test)\n",
    "    scores.append(score)\n",
    "print(\"mean_score\",np.mean(scores))\n",
    "all_predictions = np.array([tree.predict(X_test) for tree in trees])\n",
    "majority_predictions,_ = mode(all_predictions, axis=0)\n",
    "print(\"accuracy_score\",accuracy_score(y_test, majority_predictions))\n"
   ],
   "id": "c73f731a299a3a99",
   "outputs": [
    {
     "name": "stdout",
     "output_type": "stream",
     "text": [
      "mean_score 0.8012284999999999\n",
      "accuracy_score 0.872\n"
     ]
    }
   ],
   "execution_count": 20
  },
  {
   "metadata": {},
   "cell_type": "code",
   "outputs": [],
   "execution_count": null,
   "source": "",
   "id": "89321583de5f668"
  }
 ],
 "metadata": {
  "kernelspec": {
   "display_name": "Python 3",
   "language": "python",
   "name": "python3"
  },
  "language_info": {
   "codemirror_mode": {
    "name": "ipython",
    "version": 2
   },
   "file_extension": ".py",
   "mimetype": "text/x-python",
   "name": "python",
   "nbconvert_exporter": "python",
   "pygments_lexer": "ipython2",
   "version": "2.7.6"
  }
 },
 "nbformat": 4,
 "nbformat_minor": 5
}
