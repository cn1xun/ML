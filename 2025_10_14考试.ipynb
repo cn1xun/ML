{
 "cells": [
  {
   "cell_type": "code",
   "id": "initial_id",
   "metadata": {
    "collapsed": true
   },
   "source": [
    "a c c a c\n",
    "b a b"
   ],
   "outputs": [],
   "execution_count": null
  },
  {
   "metadata": {},
   "cell_type": "code",
   "outputs": [],
   "execution_count": null,
   "source": [
    "while a <= b:\n",
    "cnt += 1\n",
    "elif n > m:\n",
    "a = m + 1\n",
    "break"
   ],
   "id": "bcf047c708eb82ea"
  },
  {
   "metadata": {},
   "cell_type": "code",
   "outputs": [],
   "execution_count": null,
   "source": [
    "S = 0\n",
    "k = 1\n",
    "range(1, n+1)\n",
    "k = k * i\n",
    "sign = -1"
   ],
   "id": "9fbec899bef2fa8a"
  },
  {
   "metadata": {},
   "cell_type": "code",
   "outputs": [],
   "execution_count": null,
   "source": [
    "num = num // radix\n",
    "ans += t[g[x] - 10]\n",
    "return ans[::-1]"
   ],
   "id": "dfa85cbbbfc5c752"
  },
  {
   "metadata": {},
   "cell_type": "code",
   "outputs": [],
   "execution_count": null,
   "source": [
    "range(len(L)-1)\n",
    "L[i] == L[i+1]\n",
    "return True\n",
    "return False"
   ],
   "id": "9c24299d325efd81"
  },
  {
   "metadata": {},
   "cell_type": "code",
   "outputs": [],
   "execution_count": null,
   "source": [
    "len(a)\n",
    "a[i] > a[i-1]\n",
    "if n > maxlen:\n",
    "maxlen = n"
   ],
   "id": "f90aa9a7dca484f3"
  },
  {
   "metadata": {
    "ExecuteTime": {
     "end_time": "2025-10-14T07:00:23.190425Z",
     "start_time": "2025-10-14T07:00:21.981250Z"
    }
   },
   "cell_type": "code",
   "source": [
    "import pandas as pd\n",
    "import numpy as np\n",
    "# \tride_id（类型：int）：唯一的乘车标识符\n",
    "# \tdriver_id（类型：int）：司机标识符\n",
    "# \tpassenger_id（类型：int）：乘客标识符\n",
    "# \tdate（类型：str）：乘车日期\n",
    "# \tstatus（类型：str）：乘车状态，可能的值包括\n",
    "driver = pd.read_csv('driver.csv')\n",
    "rides_1 = pd.read_csv('rides_1.csv')\n",
    "rides_2 = pd.read_csv('rides_2.csv')\n",
    "rides_3 = pd.read_csv('rides_3.csv')\n",
    "rides_4 = pd.read_csv('rides_4.csv')"
   ],
   "id": "2d735496ae013fd9",
   "outputs": [],
   "execution_count": 1
  },
  {
   "metadata": {
    "ExecuteTime": {
     "end_time": "2025-10-14T07:00:23.214354Z",
     "start_time": "2025-10-14T07:00:23.198407Z"
    }
   },
   "cell_type": "code",
   "source": "driver",
   "id": "ff82eeffb6b2e408",
   "outputs": [
    {
     "data": {
      "text/plain": [
       "    driver_id  age second_language  rating\n",
       "0        1000   39             NaN     4.7\n",
       "1        1001   33         Spanish     4.1\n",
       "2        1002   41          German     4.6\n",
       "3        1003   50         Russian     4.9\n",
       "4        1004   32         Spanish     4.0\n",
       "..        ...  ...             ...     ...\n",
       "75       1075   43         English     4.7\n",
       "76       1076   35          French     4.4\n",
       "77       1077   32         English     4.7\n",
       "78       1078   35             NaN     4.3\n",
       "79       1079   21             NaN     4.4\n",
       "\n",
       "[80 rows x 4 columns]"
      ],
      "text/html": [
       "<div>\n",
       "<style scoped>\n",
       "    .dataframe tbody tr th:only-of-type {\n",
       "        vertical-align: middle;\n",
       "    }\n",
       "\n",
       "    .dataframe tbody tr th {\n",
       "        vertical-align: top;\n",
       "    }\n",
       "\n",
       "    .dataframe thead th {\n",
       "        text-align: right;\n",
       "    }\n",
       "</style>\n",
       "<table border=\"1\" class=\"dataframe\">\n",
       "  <thead>\n",
       "    <tr style=\"text-align: right;\">\n",
       "      <th></th>\n",
       "      <th>driver_id</th>\n",
       "      <th>age</th>\n",
       "      <th>second_language</th>\n",
       "      <th>rating</th>\n",
       "    </tr>\n",
       "  </thead>\n",
       "  <tbody>\n",
       "    <tr>\n",
       "      <th>0</th>\n",
       "      <td>1000</td>\n",
       "      <td>39</td>\n",
       "      <td>NaN</td>\n",
       "      <td>4.7</td>\n",
       "    </tr>\n",
       "    <tr>\n",
       "      <th>1</th>\n",
       "      <td>1001</td>\n",
       "      <td>33</td>\n",
       "      <td>Spanish</td>\n",
       "      <td>4.1</td>\n",
       "    </tr>\n",
       "    <tr>\n",
       "      <th>2</th>\n",
       "      <td>1002</td>\n",
       "      <td>41</td>\n",
       "      <td>German</td>\n",
       "      <td>4.6</td>\n",
       "    </tr>\n",
       "    <tr>\n",
       "      <th>3</th>\n",
       "      <td>1003</td>\n",
       "      <td>50</td>\n",
       "      <td>Russian</td>\n",
       "      <td>4.9</td>\n",
       "    </tr>\n",
       "    <tr>\n",
       "      <th>4</th>\n",
       "      <td>1004</td>\n",
       "      <td>32</td>\n",
       "      <td>Spanish</td>\n",
       "      <td>4.0</td>\n",
       "    </tr>\n",
       "    <tr>\n",
       "      <th>...</th>\n",
       "      <td>...</td>\n",
       "      <td>...</td>\n",
       "      <td>...</td>\n",
       "      <td>...</td>\n",
       "    </tr>\n",
       "    <tr>\n",
       "      <th>75</th>\n",
       "      <td>1075</td>\n",
       "      <td>43</td>\n",
       "      <td>English</td>\n",
       "      <td>4.7</td>\n",
       "    </tr>\n",
       "    <tr>\n",
       "      <th>76</th>\n",
       "      <td>1076</td>\n",
       "      <td>35</td>\n",
       "      <td>French</td>\n",
       "      <td>4.4</td>\n",
       "    </tr>\n",
       "    <tr>\n",
       "      <th>77</th>\n",
       "      <td>1077</td>\n",
       "      <td>32</td>\n",
       "      <td>English</td>\n",
       "      <td>4.7</td>\n",
       "    </tr>\n",
       "    <tr>\n",
       "      <th>78</th>\n",
       "      <td>1078</td>\n",
       "      <td>35</td>\n",
       "      <td>NaN</td>\n",
       "      <td>4.3</td>\n",
       "    </tr>\n",
       "    <tr>\n",
       "      <th>79</th>\n",
       "      <td>1079</td>\n",
       "      <td>21</td>\n",
       "      <td>NaN</td>\n",
       "      <td>4.4</td>\n",
       "    </tr>\n",
       "  </tbody>\n",
       "</table>\n",
       "<p>80 rows × 4 columns</p>\n",
       "</div>"
      ]
     },
     "execution_count": 2,
     "metadata": {},
     "output_type": "execute_result"
    }
   ],
   "execution_count": 2
  },
  {
   "metadata": {
    "ExecuteTime": {
     "end_time": "2025-10-14T07:00:23.260290Z",
     "start_time": "2025-10-14T07:00:23.252403Z"
    }
   },
   "cell_type": "code",
   "source": "driver['second_language'].value_counts()",
   "id": "b16f0ffd126c32bc",
   "outputs": [
    {
     "data": {
      "text/plain": [
       "second_language\n",
       "Spanish     16\n",
       "English     12\n",
       "French       9\n",
       "Japanese     7\n",
       "Chinese      7\n",
       "German       5\n",
       "Arabic       5\n",
       "Korean       3\n",
       "Russian      2\n",
       "Name: count, dtype: int64"
      ]
     },
     "execution_count": 3,
     "metadata": {},
     "output_type": "execute_result"
    }
   ],
   "execution_count": 3
  },
  {
   "metadata": {
    "ExecuteTime": {
     "end_time": "2025-10-14T07:00:23.317040Z",
     "start_time": "2025-10-14T07:00:23.312057Z"
    }
   },
   "cell_type": "code",
   "source": [
    "average_driver_rating = driver['rating'].mean()\n",
    "average_driver_rating"
   ],
   "id": "bc66700f63f110c5",
   "outputs": [
    {
     "data": {
      "text/plain": [
       "np.float64(4.5287500000000005)"
      ]
     },
     "execution_count": 4,
     "metadata": {},
     "output_type": "execute_result"
    }
   ],
   "execution_count": 4
  },
  {
   "metadata": {
    "ExecuteTime": {
     "end_time": "2025-10-14T07:00:23.350474Z",
     "start_time": "2025-10-14T07:00:23.344629Z"
    }
   },
   "cell_type": "code",
   "source": [
    "percentage_drivers_with_second_language = driver['second_language'].value_counts().sum()/len(driver)\n",
    "percentage_drivers_with_second_language"
   ],
   "id": "411a5a2a0e8c8db1",
   "outputs": [
    {
     "data": {
      "text/plain": [
       "np.float64(0.825)"
      ]
     },
     "execution_count": 5,
     "metadata": {},
     "output_type": "execute_result"
    }
   ],
   "execution_count": 5
  },
  {
   "metadata": {
    "ExecuteTime": {
     "end_time": "2025-10-14T07:00:23.389177Z",
     "start_time": "2025-10-14T07:00:23.384917Z"
    }
   },
   "cell_type": "code",
   "source": "rides = pd.concat([ rides_1, rides_2, rides_3, rides_4], axis=0)",
   "id": "891471c3007b6e95",
   "outputs": [],
   "execution_count": 6
  },
  {
   "metadata": {
    "ExecuteTime": {
     "end_time": "2025-10-14T07:00:23.405308Z",
     "start_time": "2025-10-14T07:00:23.399576Z"
    }
   },
   "cell_type": "code",
   "source": [
    "ride_success_rate=(rides['status']=='成功').mean()\n",
    "ride_success_rate"
   ],
   "id": "60de93cccdac7af",
   "outputs": [
    {
     "data": {
      "text/plain": [
       "np.float64(0.6569767441860465)"
      ]
     },
     "execution_count": 7,
     "metadata": {},
     "output_type": "execute_result"
    }
   ],
   "execution_count": 7
  },
  {
   "metadata": {
    "ExecuteTime": {
     "end_time": "2025-10-14T07:00:23.436465Z",
     "start_time": "2025-10-14T07:00:23.428721Z"
    }
   },
   "cell_type": "code",
   "source": [
    "pd.DataFrame({'insight_type':['平均司机评分','有第二语言的司机比例','乘车成功率'],\n",
    "              'value':[average_driver_rating,percentage_drivers_with_second_language,ride_success_rate]\n",
    "})"
   ],
   "id": "b7ca897a9afa923d",
   "outputs": [
    {
     "data": {
      "text/plain": [
       "  insight_type     value\n",
       "0       平均司机评分  4.528750\n",
       "1   有第二语言的司机比例  0.825000\n",
       "2        乘车成功率  0.656977"
      ],
      "text/html": [
       "<div>\n",
       "<style scoped>\n",
       "    .dataframe tbody tr th:only-of-type {\n",
       "        vertical-align: middle;\n",
       "    }\n",
       "\n",
       "    .dataframe tbody tr th {\n",
       "        vertical-align: top;\n",
       "    }\n",
       "\n",
       "    .dataframe thead th {\n",
       "        text-align: right;\n",
       "    }\n",
       "</style>\n",
       "<table border=\"1\" class=\"dataframe\">\n",
       "  <thead>\n",
       "    <tr style=\"text-align: right;\">\n",
       "      <th></th>\n",
       "      <th>insight_type</th>\n",
       "      <th>value</th>\n",
       "    </tr>\n",
       "  </thead>\n",
       "  <tbody>\n",
       "    <tr>\n",
       "      <th>0</th>\n",
       "      <td>平均司机评分</td>\n",
       "      <td>4.528750</td>\n",
       "    </tr>\n",
       "    <tr>\n",
       "      <th>1</th>\n",
       "      <td>有第二语言的司机比例</td>\n",
       "      <td>0.825000</td>\n",
       "    </tr>\n",
       "    <tr>\n",
       "      <th>2</th>\n",
       "      <td>乘车成功率</td>\n",
       "      <td>0.656977</td>\n",
       "    </tr>\n",
       "  </tbody>\n",
       "</table>\n",
       "</div>"
      ]
     },
     "execution_count": 8,
     "metadata": {},
     "output_type": "execute_result"
    }
   ],
   "execution_count": 8
  },
  {
   "metadata": {
    "ExecuteTime": {
     "end_time": "2025-10-14T07:00:57.692915Z",
     "start_time": "2025-10-14T07:00:57.685686Z"
    }
   },
   "cell_type": "code",
   "source": [
    "pd.DataFrame({'insight_type':['平均司机评分','有第二语言的司机比例','乘车成功率'],\n",
    "              'value':[average_driver_rating,percentage_drivers_with_second_language,ride_success_rate]\n",
    "}).to_csv('analysis_results.csv',index=False)\n"
   ],
   "id": "2b7570a5d7443a50",
   "outputs": [],
   "execution_count": 10
  },
  {
   "metadata": {},
   "cell_type": "markdown",
   "source": [
    "1.BacthNomalzation原理，减去均值除以标准差，对每一层输入进行归一化。作用，加速模型训练，提高模型收敛速度。\n",
    "\n",
    "2.Dropout原理，随机将一些神经元的输出设置为0，作用，防止过拟合，提高模型泛化能力。\n",
    "\n",
    "3.梯度裁剪为了防止梯度爆炸，设置了最大的范数，提高模型训练稳定性。\n",
    "\n",
    "4.早停是当性能不再提升时，停止训练，防止过拟合。\n",
    "\n",
    "5.数据增强是对数据平移旋转等操作，目的是增加数据的多样性，提高模型的泛化能力。\n",
    "\n",
    "6.梯度消失是梯度更新时，由于梯度值很小，导致模型参数更新缓慢，无法收敛。使用relu等特殊的激活函数，或使用批量归一化。\n",
    "\n",
    "7.学习率调度是根据模型的需求，动态调整学习率，作用，提高模型收敛速度，避免局部最优解。\n"
   ],
   "id": "2d61a91ce9624733"
  },
  {
   "metadata": {
    "ExecuteTime": {
     "end_time": "2025-10-14T07:01:00.261706Z",
     "start_time": "2025-10-14T07:01:00.257474Z"
    }
   },
   "cell_type": "code",
   "source": [
    "# 假设我们用 60 天的价格预测第 61 天价格\n",
    "time_steps = 60\n",
    "features = 1\n",
    "samples = 200\n",
    "\n",
    "# 构造输入数据 (samples, time_steps, features)\n",
    "x_train = np.random.rand(samples, time_steps, features)  # 200个 60天股票价格\n",
    "y_train = np.random.rand(samples, 1)                     # 200个 对应的第61天股票价格\n",
    "x_test  = np.random.rand(10, time_steps, features)       # 测试数据"
   ],
   "id": "9e8254b441d60eb6",
   "outputs": [],
   "execution_count": 11
  },
  {
   "metadata": {
    "ExecuteTime": {
     "end_time": "2025-10-14T07:01:19.724212Z",
     "start_time": "2025-10-14T07:01:00.945970Z"
    }
   },
   "cell_type": "code",
   "source": [
    "import tensorflow as tf\n",
    "stock_model = tf.keras.Sequential([\n",
    "    tf.keras.layers.LSTM(4, input_shape=(time_steps, features),return_sequences=True),\n",
    "    tf.keras.layers.Dropout(0.2),\n",
    "    tf.keras.layers.LSTM(4,),\n",
    "    tf.keras.layers.Dropout(0.2),\n",
    "    tf.keras.layers.Dense(1)\n",
    "])"
   ],
   "id": "17a7fe127e6dc6a9",
   "outputs": [
    {
     "name": "stderr",
     "output_type": "stream",
     "text": [
      "C:\\Users\\20548\\AppData\\Roaming\\Python\\Python313\\site-packages\\keras\\src\\layers\\rnn\\rnn.py:199: UserWarning: Do not pass an `input_shape`/`input_dim` argument to a layer. When using Sequential models, prefer using an `Input(shape)` object as the first layer in the model instead.\n",
      "  super().__init__(**kwargs)\n"
     ]
    }
   ],
   "execution_count": 12
  },
  {
   "metadata": {
    "ExecuteTime": {
     "end_time": "2025-10-14T07:01:19.774478Z",
     "start_time": "2025-10-14T07:01:19.759684Z"
    }
   },
   "cell_type": "code",
   "source": "stock_model.compile(optimizer='adam', loss='mean_squared_error')",
   "id": "166f8f3a17327695",
   "outputs": [],
   "execution_count": 13
  },
  {
   "metadata": {
    "ExecuteTime": {
     "end_time": "2025-10-14T07:01:37.177261Z",
     "start_time": "2025-10-14T07:01:19.804112Z"
    }
   },
   "cell_type": "code",
   "source": "stock_model.fit(x_train, y_train, epochs=5, batch_size=16,verbose=0)",
   "id": "492685fd1ae144c6",
   "outputs": [
    {
     "data": {
      "text/plain": [
       "<keras.src.callbacks.history.History at 0x1ac3973a900>"
      ]
     },
     "execution_count": 14,
     "metadata": {},
     "output_type": "execute_result"
    }
   ],
   "execution_count": 14
  },
  {
   "metadata": {
    "ExecuteTime": {
     "end_time": "2025-10-14T07:01:42.567848Z",
     "start_time": "2025-10-14T07:01:42.522951Z"
    }
   },
   "cell_type": "code",
   "source": "stock_model.summary()",
   "id": "220b454d5ed22475",
   "outputs": [
    {
     "data": {
      "text/plain": [
       "\u001B[1mModel: \"sequential\"\u001B[0m\n"
      ],
      "text/html": [
       "<pre style=\"white-space:pre;overflow-x:auto;line-height:normal;font-family:Menlo,'DejaVu Sans Mono',consolas,'Courier New',monospace\"><span style=\"font-weight: bold\">Model: \"sequential\"</span>\n",
       "</pre>\n"
      ]
     },
     "metadata": {},
     "output_type": "display_data"
    },
    {
     "data": {
      "text/plain": [
       "┏━━━━━━━━━━━━━━━━━━━━━━━━━━━━━━━━━┳━━━━━━━━━━━━━━━━━━━━━━━━┳━━━━━━━━━━━━━━━┓\n",
       "┃\u001B[1m \u001B[0m\u001B[1mLayer (type)                   \u001B[0m\u001B[1m \u001B[0m┃\u001B[1m \u001B[0m\u001B[1mOutput Shape          \u001B[0m\u001B[1m \u001B[0m┃\u001B[1m \u001B[0m\u001B[1m      Param #\u001B[0m\u001B[1m \u001B[0m┃\n",
       "┡━━━━━━━━━━━━━━━━━━━━━━━━━━━━━━━━━╇━━━━━━━━━━━━━━━━━━━━━━━━╇━━━━━━━━━━━━━━━┩\n",
       "│ lstm (\u001B[38;5;33mLSTM\u001B[0m)                     │ (\u001B[38;5;45mNone\u001B[0m, \u001B[38;5;34m60\u001B[0m, \u001B[38;5;34m4\u001B[0m)          │            \u001B[38;5;34m96\u001B[0m │\n",
       "├─────────────────────────────────┼────────────────────────┼───────────────┤\n",
       "│ dropout (\u001B[38;5;33mDropout\u001B[0m)               │ (\u001B[38;5;45mNone\u001B[0m, \u001B[38;5;34m60\u001B[0m, \u001B[38;5;34m4\u001B[0m)          │             \u001B[38;5;34m0\u001B[0m │\n",
       "├─────────────────────────────────┼────────────────────────┼───────────────┤\n",
       "│ lstm_1 (\u001B[38;5;33mLSTM\u001B[0m)                   │ (\u001B[38;5;45mNone\u001B[0m, \u001B[38;5;34m4\u001B[0m)              │           \u001B[38;5;34m144\u001B[0m │\n",
       "├─────────────────────────────────┼────────────────────────┼───────────────┤\n",
       "│ dropout_1 (\u001B[38;5;33mDropout\u001B[0m)             │ (\u001B[38;5;45mNone\u001B[0m, \u001B[38;5;34m4\u001B[0m)              │             \u001B[38;5;34m0\u001B[0m │\n",
       "├─────────────────────────────────┼────────────────────────┼───────────────┤\n",
       "│ dense (\u001B[38;5;33mDense\u001B[0m)                   │ (\u001B[38;5;45mNone\u001B[0m, \u001B[38;5;34m1\u001B[0m)              │             \u001B[38;5;34m5\u001B[0m │\n",
       "└─────────────────────────────────┴────────────────────────┴───────────────┘\n"
      ],
      "text/html": [
       "<pre style=\"white-space:pre;overflow-x:auto;line-height:normal;font-family:Menlo,'DejaVu Sans Mono',consolas,'Courier New',monospace\">┏━━━━━━━━━━━━━━━━━━━━━━━━━━━━━━━━━┳━━━━━━━━━━━━━━━━━━━━━━━━┳━━━━━━━━━━━━━━━┓\n",
       "┃<span style=\"font-weight: bold\"> Layer (type)                    </span>┃<span style=\"font-weight: bold\"> Output Shape           </span>┃<span style=\"font-weight: bold\">       Param # </span>┃\n",
       "┡━━━━━━━━━━━━━━━━━━━━━━━━━━━━━━━━━╇━━━━━━━━━━━━━━━━━━━━━━━━╇━━━━━━━━━━━━━━━┩\n",
       "│ lstm (<span style=\"color: #0087ff; text-decoration-color: #0087ff\">LSTM</span>)                     │ (<span style=\"color: #00d7ff; text-decoration-color: #00d7ff\">None</span>, <span style=\"color: #00af00; text-decoration-color: #00af00\">60</span>, <span style=\"color: #00af00; text-decoration-color: #00af00\">4</span>)          │            <span style=\"color: #00af00; text-decoration-color: #00af00\">96</span> │\n",
       "├─────────────────────────────────┼────────────────────────┼───────────────┤\n",
       "│ dropout (<span style=\"color: #0087ff; text-decoration-color: #0087ff\">Dropout</span>)               │ (<span style=\"color: #00d7ff; text-decoration-color: #00d7ff\">None</span>, <span style=\"color: #00af00; text-decoration-color: #00af00\">60</span>, <span style=\"color: #00af00; text-decoration-color: #00af00\">4</span>)          │             <span style=\"color: #00af00; text-decoration-color: #00af00\">0</span> │\n",
       "├─────────────────────────────────┼────────────────────────┼───────────────┤\n",
       "│ lstm_1 (<span style=\"color: #0087ff; text-decoration-color: #0087ff\">LSTM</span>)                   │ (<span style=\"color: #00d7ff; text-decoration-color: #00d7ff\">None</span>, <span style=\"color: #00af00; text-decoration-color: #00af00\">4</span>)              │           <span style=\"color: #00af00; text-decoration-color: #00af00\">144</span> │\n",
       "├─────────────────────────────────┼────────────────────────┼───────────────┤\n",
       "│ dropout_1 (<span style=\"color: #0087ff; text-decoration-color: #0087ff\">Dropout</span>)             │ (<span style=\"color: #00d7ff; text-decoration-color: #00d7ff\">None</span>, <span style=\"color: #00af00; text-decoration-color: #00af00\">4</span>)              │             <span style=\"color: #00af00; text-decoration-color: #00af00\">0</span> │\n",
       "├─────────────────────────────────┼────────────────────────┼───────────────┤\n",
       "│ dense (<span style=\"color: #0087ff; text-decoration-color: #0087ff\">Dense</span>)                   │ (<span style=\"color: #00d7ff; text-decoration-color: #00d7ff\">None</span>, <span style=\"color: #00af00; text-decoration-color: #00af00\">1</span>)              │             <span style=\"color: #00af00; text-decoration-color: #00af00\">5</span> │\n",
       "└─────────────────────────────────┴────────────────────────┴───────────────┘\n",
       "</pre>\n"
      ]
     },
     "metadata": {},
     "output_type": "display_data"
    },
    {
     "data": {
      "text/plain": [
       "\u001B[1m Total params: \u001B[0m\u001B[38;5;34m737\u001B[0m (2.88 KB)\n"
      ],
      "text/html": [
       "<pre style=\"white-space:pre;overflow-x:auto;line-height:normal;font-family:Menlo,'DejaVu Sans Mono',consolas,'Courier New',monospace\"><span style=\"font-weight: bold\"> Total params: </span><span style=\"color: #00af00; text-decoration-color: #00af00\">737</span> (2.88 KB)\n",
       "</pre>\n"
      ]
     },
     "metadata": {},
     "output_type": "display_data"
    },
    {
     "data": {
      "text/plain": [
       "\u001B[1m Trainable params: \u001B[0m\u001B[38;5;34m245\u001B[0m (980.00 B)\n"
      ],
      "text/html": [
       "<pre style=\"white-space:pre;overflow-x:auto;line-height:normal;font-family:Menlo,'DejaVu Sans Mono',consolas,'Courier New',monospace\"><span style=\"font-weight: bold\"> Trainable params: </span><span style=\"color: #00af00; text-decoration-color: #00af00\">245</span> (980.00 B)\n",
       "</pre>\n"
      ]
     },
     "metadata": {},
     "output_type": "display_data"
    },
    {
     "data": {
      "text/plain": [
       "\u001B[1m Non-trainable params: \u001B[0m\u001B[38;5;34m0\u001B[0m (0.00 B)\n"
      ],
      "text/html": [
       "<pre style=\"white-space:pre;overflow-x:auto;line-height:normal;font-family:Menlo,'DejaVu Sans Mono',consolas,'Courier New',monospace\"><span style=\"font-weight: bold\"> Non-trainable params: </span><span style=\"color: #00af00; text-decoration-color: #00af00\">0</span> (0.00 B)\n",
       "</pre>\n"
      ]
     },
     "metadata": {},
     "output_type": "display_data"
    },
    {
     "data": {
      "text/plain": [
       "\u001B[1m Optimizer params: \u001B[0m\u001B[38;5;34m492\u001B[0m (1.93 KB)\n"
      ],
      "text/html": [
       "<pre style=\"white-space:pre;overflow-x:auto;line-height:normal;font-family:Menlo,'DejaVu Sans Mono',consolas,'Courier New',monospace\"><span style=\"font-weight: bold\"> Optimizer params: </span><span style=\"color: #00af00; text-decoration-color: #00af00\">492</span> (1.93 KB)\n",
       "</pre>\n"
      ]
     },
     "metadata": {},
     "output_type": "display_data"
    }
   ],
   "execution_count": 15
  },
  {
   "metadata": {
    "ExecuteTime": {
     "end_time": "2025-10-14T07:02:18.954533Z",
     "start_time": "2025-10-14T07:02:18.195005Z"
    }
   },
   "cell_type": "code",
   "source": "predictions = stock_model.predict(x_test)",
   "id": "8822ec753d4975b9",
   "outputs": [
    {
     "name": "stdout",
     "output_type": "stream",
     "text": [
      "\u001B[1m1/1\u001B[0m \u001B[32m━━━━━━━━━━━━━━━━━━━━\u001B[0m\u001B[37m\u001B[0m \u001B[1m1s\u001B[0m 695ms/step\n"
     ]
    }
   ],
   "execution_count": 16
  },
  {
   "metadata": {
    "ExecuteTime": {
     "end_time": "2025-10-14T07:02:24.639992Z",
     "start_time": "2025-10-14T07:02:24.633069Z"
    }
   },
   "cell_type": "code",
   "source": "predictions[:, 0]",
   "id": "bfc418c8b9bfaa4e",
   "outputs": [
    {
     "data": {
      "text/plain": [
       "array([0.49425298, 0.5479582 , 0.54022056, 0.5170837 , 0.4839187 ,\n",
       "       0.54889894, 0.50259995, 0.54995996, 0.4578567 , 0.4594984 ],\n",
       "      dtype=float32)"
      ]
     },
     "execution_count": 17,
     "metadata": {},
     "output_type": "execute_result"
    }
   ],
   "execution_count": 17
  },
  {
   "metadata": {},
   "cell_type": "code",
   "outputs": [],
   "execution_count": null,
   "source": "",
   "id": "2769f58ea8da660b"
  }
 ],
 "metadata": {
  "kernelspec": {
   "display_name": "Python [conda env:base] *",
   "language": "python",
   "name": "conda-base-py"
  },
  "language_info": {
   "codemirror_mode": {
    "name": "ipython",
    "version": 2
   },
   "file_extension": ".py",
   "mimetype": "text/x-python",
   "name": "python",
   "nbconvert_exporter": "python",
   "pygments_lexer": "ipython2",
   "version": "2.7.6"
  }
 },
 "nbformat": 4,
 "nbformat_minor": 5
}
